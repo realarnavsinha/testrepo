{
  "metadata": {
    "language_info": {
      "codemirror_mode": {
        "name": "python",
        "version": 3
      },
      "file_extension": ".py",
      "mimetype": "text/x-python",
      "name": "python",
      "nbconvert_exporter": "python",
      "pygments_lexer": "ipython3",
      "version": "3.8"
    },
    "kernelspec": {
      "name": "python",
      "display_name": "Python (Pyodide)",
      "language": "python"
    }
  },
  "nbformat_minor": 4,
  "nbformat": 4,
  "cells": [
    {
      "cell_type": "markdown",
      "source": "# My Jupyter notebook for Tools of Data Science",
      "metadata": {}
    },
    {
      "cell_type": "markdown",
      "source": "Hi,\n\nMy name is Arnav. I am a Computer Engineering student at PVG's College of Engineering and Technology.\n\nI am interested in data science because I like analyzing data to help bring changes that are good for people. I love helping others. Data science is very crucial as that could be helping a business understand its customers or improving the way it uses its customer data.",
      "metadata": {}
    },
    {
      "cell_type": "markdown",
      "source": "**Data Science Languages:**\n* Python: It is the most popular language used in data science due to its ease of use, powerful libraries (NumPy, Pandas, Matplotlib, etc.), and large community support.\n\n* R: It is another popular language used for statistical analysis and data visualization. It has a large library of packages specifically designed for data science tasks.\n\n* SQL: SQL (Structured Query Language) is used for querying and manipulating data in relational databases. It's essential for data engineers and data analysts.",
      "metadata": {}
    },
    {
      "cell_type": "markdown",
      "source": "**Data Science Libraries**\n\n* NumPy: A library for working with arrays and matrices of numerical data in Python. It provides fast, efficient functions for numerical computation and is a fundamental package for scientific computing with Python.\n\n* Pandas: A library for data manipulation and analysis in Python. It provides data structures for efficiently storing and manipulating large datasets, and includes tools for data cleaning, merging, and reshaping.\n\n* Matplotlib: A library for creating static, animated, and interactive visualizations in Python. It provides a variety of plot types and customization options for creating publication-quality figures.\n\n* Sci-kit learn: A machine learning library for Python. It includes tools for supervised and unsupervised learning, feature selection, model selection and evaluation, and data preprocessing.",
      "metadata": {}
    },
    {
      "cell_type": "markdown",
      "source": "**Data Science Tools**\n\n\n| Tools | Decription |\n| -------- | -------- |\n| Jupyter Notebook | An open-source web application that allows users to create and share documents that contain live code, equations, visualizations, and narrative text. It supports many programming languages, including Python, R, and SQL. |\n| RStudio | An integrated development environment (IDE) for R that provides a user-friendly interface for writing code, debugging, and visualizing data. It includes a variety of tools for data analysis, manipulation, and visualization. |\n| Github | A web-based platform for version control and collaborative development of software projects. It allows data scientists to keep track of changes made to their code and data over time, share their code with others, and collaborate on projects. |",
      "metadata": {}
    },
    {
      "cell_type": "markdown",
      "source": "**Arithmetic Expression Examples**\n\nArithmetic expressions are mathematical calculations that involve numbers/variables and operators.\n\n* Addition: Adding two numbers together using the '+' operator. For example, 2 + 3 = 5.\n\n* Subtraction: Subtracting one number from another using the '-' operator. For example, 5 - 3 = 2.\n\n* Multiplication: Multiplying two numbers together using the '*' operator. For example, 2 * 3 = 6.\n\n* Division: Dividing one number by another using the '/' operator. For example, 6 / 3 = 2.\n\n* Modulo: Finding the remainder of a division using the '%' operator. For example, 7 % 3 = 1.\n\n* Exponentiation: Raising a number to a power using the '**' operator. For example, 2 ** 3 = 8.",
      "metadata": {}
    },
    {
      "cell_type": "code",
      "source": "# Multiply and add numbers\nx = 2\ny = 3\nz = x * y + 5\n\nprint(\"The value of z is:\",z)",
      "metadata": {
        "trusted": true
      },
      "execution_count": 5,
      "outputs": [
        {
          "name": "stdout",
          "text": "The value of z is: 11\n",
          "output_type": "stream"
        }
      ]
    },
    {
      "cell_type": "code",
      "source": "# Convert minutes to hours\nmin=150\nhr=min/60\nprint(hr,\" hours\")",
      "metadata": {
        "trusted": true
      },
      "execution_count": 6,
      "outputs": [
        {
          "name": "stdout",
          "text": "2.5  hours\n",
          "output_type": "stream"
        }
      ]
    },
    {
      "cell_type": "markdown",
      "source": "**Objectives**\n\nData Science objectives include:\n\n* Data Collection\n* Data Preparaton\n* Data Analysis\n* Model development\n* Visualization and reporting\n* Optimization\n* Automation\n* Collaboration and communication",
      "metadata": {}
    },
    {
      "cell_type": "markdown",
      "source": "**Author's Name:** Arnav Sinha",
      "metadata": {}
    },
    {
      "cell_type": "code",
      "source": "",
      "metadata": {},
      "execution_count": null,
      "outputs": []
    }
  ]
}